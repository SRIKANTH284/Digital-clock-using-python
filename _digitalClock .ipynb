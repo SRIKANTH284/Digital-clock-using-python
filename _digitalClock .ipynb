{
 "cells": [
  {
   "cell_type": "code",
   "execution_count": 1,
   "id": "1cb82b83",
   "metadata": {},
   "outputs": [],
   "source": [
    "from tkinter import *\n",
    "from tkinter.ttk import *\n"
   ]
  },
  {
   "cell_type": "code",
   "execution_count": 2,
   "id": "0196bcc4",
   "metadata": {},
   "outputs": [],
   "source": [
    "#%I is used to change the time to 12 hours\n",
    "#%H is for 24 hours\n",
    "from time import strftime\n",
    "root = Tk()\n",
    "root.title(\"Clock\")\n",
    "def time():\n",
    "    string = strftime('%I:%M:%S:%p')\n",
    "    label.config(text=string)\n",
    "    label.after(1000,time)\n",
    "    \n",
    "label = Label(root, font=(\"ds-digital\",80), background= \"black\", foreground= \"green\")\n",
    "label.pack(anchor='center')\n",
    "\n",
    "time()\n",
    "mainloop()"
   ]
  },
  {
   "cell_type": "code",
   "execution_count": null,
   "id": "b76373cc",
   "metadata": {},
   "outputs": [],
   "source": []
  },
  {
   "cell_type": "code",
   "execution_count": null,
   "id": "e8180f83",
   "metadata": {},
   "outputs": [],
   "source": []
  }
 ],
 "metadata": {
  "kernelspec": {
   "display_name": "Python 3 (ipykernel)",
   "language": "python",
   "name": "python3"
  },
  "language_info": {
   "codemirror_mode": {
    "name": "ipython",
    "version": 3
   },
   "file_extension": ".py",
   "mimetype": "text/x-python",
   "name": "python",
   "nbconvert_exporter": "python",
   "pygments_lexer": "ipython3",
   "version": "3.9.7"
  }
 },
 "nbformat": 4,
 "nbformat_minor": 5
}
